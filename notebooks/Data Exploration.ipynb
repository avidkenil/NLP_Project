{
 "cells": [
  {
   "cell_type": "code",
   "execution_count": 21,
   "metadata": {},
   "outputs": [],
   "source": [
    "import numpy as np\n",
    "import pandas as pd"
   ]
  },
  {
   "cell_type": "code",
   "execution_count": 22,
   "metadata": {},
   "outputs": [],
   "source": [
    "with open('../data/iwslt-zh-en/train.tok.en','r') as f:\n",
    "    train_data_en = np.array(f.read().splitlines())\n",
    "    \n",
    "with open('../data/iwslt-zh-en/train.tok.zh','r') as f:\n",
    "    train_data_zh = np.array(f.read().splitlines())\n"
   ]
  },
  {
   "cell_type": "code",
   "execution_count": 35,
   "metadata": {},
   "outputs": [],
   "source": [
    "def prepare_data(df):\n",
    "    df['en_sent'] = df['en_sent'].str.split()\n",
    "    df['zh_sent'] = df['zh_sent'].str.split()\n",
    "    return df"
   ]
  },
  {
   "cell_type": "code",
   "execution_count": 36,
   "metadata": {},
   "outputs": [],
   "source": [
    "train_data = pd.DataFrame({'en_sent':train_data_en,'zh_sent':train_data_zh})"
   ]
  },
  {
   "cell_type": "code",
   "execution_count": 37,
   "metadata": {},
   "outputs": [],
   "source": [
    "train_data = prepare_data(train_data)"
   ]
  },
  {
   "cell_type": "code",
   "execution_count": 38,
   "metadata": {},
   "outputs": [
    {
     "data": {
      "text/html": [
       "<div>\n",
       "<style scoped>\n",
       "    .dataframe tbody tr th:only-of-type {\n",
       "        vertical-align: middle;\n",
       "    }\n",
       "\n",
       "    .dataframe tbody tr th {\n",
       "        vertical-align: top;\n",
       "    }\n",
       "\n",
       "    .dataframe thead th {\n",
       "        text-align: right;\n",
       "    }\n",
       "</style>\n",
       "<table border=\"1\" class=\"dataframe\">\n",
       "  <thead>\n",
       "    <tr style=\"text-align: right;\">\n",
       "      <th></th>\n",
       "      <th>en_sent</th>\n",
       "      <th>zh_sent</th>\n",
       "    </tr>\n",
       "  </thead>\n",
       "  <tbody>\n",
       "    <tr>\n",
       "      <th>0</th>\n",
       "      <td>[Life, in, the, deep, oceans]</td>\n",
       "      <td>[深海, 海中, 的, 生命, 大卫, 盖罗]</td>\n",
       "    </tr>\n",
       "    <tr>\n",
       "      <th>1</th>\n",
       "      <td>[With, vibrant, video, clips, captured, by, su...</td>\n",
       "      <td>[大卫, 盖罗, 通过, 潜水, 潜水艇, 拍下, 的, 影片, 把, 我们, 带到, 了,...</td>\n",
       "    </tr>\n",
       "    <tr>\n",
       "      <th>2</th>\n",
       "      <td>[This, is, Bill, Lange, ., I, &amp;apos;m, Dave, G...</td>\n",
       "      <td>[大卫, 盖罗, 这位, 是, 比尔, 兰格, 我, 是, 大卫, 盖罗]</td>\n",
       "    </tr>\n",
       "    <tr>\n",
       "      <th>3</th>\n",
       "      <td>[And, we, &amp;apos;re, going, to, tell, you, some...</td>\n",
       "      <td>[我们, 将, 用, 一些, 影片, 来讲, 讲述, 一些, 深海, 海里, 的, 故事]</td>\n",
       "    </tr>\n",
       "    <tr>\n",
       "      <th>4</th>\n",
       "      <td>[We, &amp;apos;ve, got, some, of, the, most, incre...</td>\n",
       "      <td>[我们, 这, 有, 不少, 精彩, 的, 泰坦, 泰坦尼克, 坦尼, 尼克, 的, 影片,...</td>\n",
       "    </tr>\n",
       "  </tbody>\n",
       "</table>\n",
       "</div>"
      ],
      "text/plain": [
       "                                             en_sent  \\\n",
       "0                      [Life, in, the, deep, oceans]   \n",
       "1  [With, vibrant, video, clips, captured, by, su...   \n",
       "2  [This, is, Bill, Lange, ., I, &apos;m, Dave, G...   \n",
       "3  [And, we, &apos;re, going, to, tell, you, some...   \n",
       "4  [We, &apos;ve, got, some, of, the, most, incre...   \n",
       "\n",
       "                                             zh_sent  \n",
       "0                            [深海, 海中, 的, 生命, 大卫, 盖罗]  \n",
       "1  [大卫, 盖罗, 通过, 潜水, 潜水艇, 拍下, 的, 影片, 把, 我们, 带到, 了,...  \n",
       "2              [大卫, 盖罗, 这位, 是, 比尔, 兰格, 我, 是, 大卫, 盖罗]  \n",
       "3      [我们, 将, 用, 一些, 影片, 来讲, 讲述, 一些, 深海, 海里, 的, 故事]  \n",
       "4  [我们, 这, 有, 不少, 精彩, 的, 泰坦, 泰坦尼克, 坦尼, 尼克, 的, 影片,...  "
      ]
     },
     "execution_count": 38,
     "metadata": {},
     "output_type": "execute_result"
    }
   ],
   "source": [
    "train_data.head()"
   ]
  },
  {
   "cell_type": "code",
   "execution_count": null,
   "metadata": {},
   "outputs": [],
   "source": []
  }
 ],
 "metadata": {
  "kernelspec": {
   "display_name": "Python 3",
   "language": "python",
   "name": "python3"
  },
  "language_info": {
   "codemirror_mode": {
    "name": "ipython",
    "version": 3
   },
   "file_extension": ".py",
   "mimetype": "text/x-python",
   "name": "python",
   "nbconvert_exporter": "python",
   "pygments_lexer": "ipython3",
   "version": "3.6.5"
  }
 },
 "nbformat": 4,
 "nbformat_minor": 2
}
